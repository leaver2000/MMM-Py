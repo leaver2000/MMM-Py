{
 "cells": [
  {
   "cell_type": "markdown",
   "metadata": {},
   "source": [
    "# Extract"
   ]
  },
  {
   "cell_type": "code",
   "execution_count": 1,
   "metadata": {},
   "outputs": [
    {
     "data": {
      "text/html": [
       "\n",
       "                <script type=\"application/javascript\" id=\"jupyter_black\">\n",
       "                (function() {\n",
       "                    if (window.IPython === undefined) {\n",
       "                        return\n",
       "                    }\n",
       "                    var msg = \"WARNING: it looks like you might have loaded \" +\n",
       "                        \"jupyter_black in a non-lab notebook with \" +\n",
       "                        \"`is_lab=True`. Please double check, and if \" +\n",
       "                        \"loading with `%load_ext` please review the README!\"\n",
       "                    console.log(msg)\n",
       "                    alert(msg)\n",
       "                })()\n",
       "                </script>\n",
       "                "
      ],
      "text/plain": [
       "<IPython.core.display.HTML object>"
      ]
     },
     "metadata": {},
     "output_type": "display_data"
    }
   ],
   "source": [
    "%load_ext jupyter_black"
   ]
  },
  {
   "cell_type": "code",
   "execution_count": 1,
   "metadata": {
    "collapsed": true
   },
   "outputs": [
    {
     "data": {
      "text/plain": [
       "PosixPath('/workspaces/MMM-Py')"
      ]
     },
     "execution_count": 1,
     "metadata": {},
     "output_type": "execute_result"
    }
   ],
   "source": [
    "import os\n",
    "import shutil\n",
    "from pathlib import Path\n",
    "from typing import Iterator\n",
    "from datetime import datetime\n",
    "from urllib.error import HTTPError\n",
    "\n",
    "from requests import Session\n",
    "import pandas as pd\n",
    "\n",
    "root = Path(os.path.abspath(__name__)).parents[1]\n",
    "root"
   ]
  },
  {
   "cell_type": "code",
   "execution_count": 3,
   "metadata": {},
   "outputs": [],
   "source": [
    "def __iterurls(baseurl: str) -> Iterator[str]:\n",
    "    (html,) = pd.read_html(baseurl)\n",
    "    nodes = html[\"Name\"].dropna()\n",
    "    yield from baseurl + nodes[nodes.str.contains(\"MergedReflectivityQC\")]\n",
    "\n",
    "\n",
    "def __iterfiles(\n",
    "    files: pd.Series, input_dt: datetime, max_seconds: int\n",
    ") -> Iterator[str]:\n",
    "    time_delta: pd.Series[datetime] = abs(\n",
    "        input_dt - files.str.extract(r\"(\\d{8}-\\d{6})\").astype(\"datetime64[s]\").squeeze()\n",
    "    )\n",
    "    yield from files[time_delta.dt.total_seconds() <= max_seconds]\n",
    "\n",
    "\n",
    "def download_files(\n",
    "    save_to: Path,\n",
    "    *,\n",
    "    input_dt: datetime = datetime.utcnow(),\n",
    "    max_seconds: int = 300,\n",
    ") -> None:\n",
    "    baseurl = \"http://mrms.ncep.noaa.gov/data/3DRefl/\"\n",
    "    if not save_to.exists():\n",
    "        save_to.mkdir()\n",
    "    with Session() as session:\n",
    "        for url in __iterurls(baseurl):\n",
    "            (html,) = pd.read_html(url, skiprows=[1, 2, 3], parse_dates=True)\n",
    "\n",
    "            for file in __iterfiles(html[\"Name\"].dropna(), input_dt, max_seconds):\n",
    "                try:\n",
    "                    r = session.get(url + file, stream=True)\n",
    "                    r.raise_for_status()\n",
    "                    with (save_to / file).open(\"wb\") as fileout:\n",
    "                        shutil.copyfileobj(r.raw, fileout)\n",
    "                except HTTPError:\n",
    "                    continue\n",
    "\n",
    "\n",
    "if __name__ == \"__main__\":\n",
    "    download_files(root / \"data\")"
   ]
  }
 ],
 "metadata": {
  "anaconda-cloud": {},
  "interpreter": {
   "hash": "23393d2575091a37cff0d0e9e7479591a295495b26c3b2ebf9b64da572e02d85"
  },
  "kernelspec": {
   "display_name": "Python 3.10.4 ('venv')",
   "language": "python",
   "name": "python3"
  },
  "language_info": {
   "codemirror_mode": {
    "name": "ipython",
    "version": 3
   },
   "file_extension": ".py",
   "mimetype": "text/x-python",
   "name": "python",
   "nbconvert_exporter": "python",
   "pygments_lexer": "ipython3",
   "version": "3.10.4"
  },
  "vscode": {
   "interpreter": {
    "hash": "23393d2575091a37cff0d0e9e7479591a295495b26c3b2ebf9b64da572e02d85"
   }
  }
 },
 "nbformat": 4,
 "nbformat_minor": 1
}
