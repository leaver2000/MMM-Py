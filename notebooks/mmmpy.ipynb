{
 "cells": [
  {
   "cell_type": "code",
   "execution_count": 51,
   "metadata": {},
   "outputs": [
    {
     "name": "stdout",
     "output_type": "stream",
     "text": [
      "(PosixPath('/tmp/mmmpy-147695ca-1fac-11ed-bb2f-0242ac110002/MergedRefl_20150217_235829_02.25.grib2'), PosixPath('/tmp/mmmpy-147695ca-1fac-11ed-bb2f-0242ac110002/MergedRefl_20150217_235829_00.75.grib2'), PosixPath('/tmp/mmmpy-147695ca-1fac-11ed-bb2f-0242ac110002/MergedRefl_20150217_235829_06.00.grib2'), PosixPath('/tmp/mmmpy-147695ca-1fac-11ed-bb2f-0242ac110002/MergedRefl_20150217_235829_19.00.grib2'), PosixPath('/tmp/mmmpy-147695ca-1fac-11ed-bb2f-0242ac110002/MergedRefl_20150217_235829_04.00.grib2'), PosixPath('/tmp/mmmpy-147695ca-1fac-11ed-bb2f-0242ac110002/MergedRefl_20150217_235829_03.50.grib2'), PosixPath('/tmp/mmmpy-147695ca-1fac-11ed-bb2f-0242ac110002/MergedRefl_20150217_235829_04.50.grib2'), PosixPath('/tmp/mmmpy-147695ca-1fac-11ed-bb2f-0242ac110002/MergedRefl_20150217_235829_15.00.grib2'), PosixPath('/tmp/mmmpy-147695ca-1fac-11ed-bb2f-0242ac110002/MergedRefl_20150217_235829_12.00.grib2'), PosixPath('/tmp/mmmpy-147695ca-1fac-11ed-bb2f-0242ac110002/MergedRefl_20150217_235829_05.50.grib2'), PosixPath('/tmp/mmmpy-147695ca-1fac-11ed-bb2f-0242ac110002/MergedRefl_20150217_235829_14.00.grib2'), PosixPath('/tmp/mmmpy-147695ca-1fac-11ed-bb2f-0242ac110002/MergedRefl_20150217_235829_02.75.grib2'), PosixPath('/tmp/mmmpy-147695ca-1fac-11ed-bb2f-0242ac110002/MergedRefl_20150217_235829_07.00.grib2'), PosixPath('/tmp/mmmpy-147695ca-1fac-11ed-bb2f-0242ac110002/MergedRefl_20150217_235829_01.75.grib2'), PosixPath('/tmp/mmmpy-147695ca-1fac-11ed-bb2f-0242ac110002/MergedRefl_20150217_235829_01.50.grib2'), PosixPath('/tmp/mmmpy-147695ca-1fac-11ed-bb2f-0242ac110002/MergedRefl_20150217_235829_05.00.grib2'), PosixPath('/tmp/mmmpy-147695ca-1fac-11ed-bb2f-0242ac110002/MergedRefl_20150217_235829_09.00.grib2'), PosixPath('/tmp/mmmpy-147695ca-1fac-11ed-bb2f-0242ac110002/MergedRefl_20150217_235829_10.00.grib2'), PosixPath('/tmp/mmmpy-147695ca-1fac-11ed-bb2f-0242ac110002/MergedRefl_20150217_235829_13.00.grib2'), PosixPath('/tmp/mmmpy-147695ca-1fac-11ed-bb2f-0242ac110002/MergedRefl_20150217_235829_02.00.grib2'), PosixPath('/tmp/mmmpy-147695ca-1fac-11ed-bb2f-0242ac110002/MergedRefl_20150217_235829_07.50.grib2'), PosixPath('/tmp/mmmpy-147695ca-1fac-11ed-bb2f-0242ac110002/MergedRefl_20150217_235829_16.00.grib2'), PosixPath('/tmp/mmmpy-147695ca-1fac-11ed-bb2f-0242ac110002/MergedRefl_20150217_235829_01.25.grib2'), PosixPath('/tmp/mmmpy-147695ca-1fac-11ed-bb2f-0242ac110002/MergedRefl_20150217_235829_18.00.grib2'), PosixPath('/tmp/mmmpy-147695ca-1fac-11ed-bb2f-0242ac110002/MergedRefl_20150217_235829_02.50.grib2'), PosixPath('/tmp/mmmpy-147695ca-1fac-11ed-bb2f-0242ac110002/MergedRefl_20150217_235829_00.50.grib2'), PosixPath('/tmp/mmmpy-147695ca-1fac-11ed-bb2f-0242ac110002/MergedRefl_20150217_235829_11.00.grib2'), PosixPath('/tmp/mmmpy-147695ca-1fac-11ed-bb2f-0242ac110002/MergedRefl_20150217_235829_17.00.grib2'), PosixPath('/tmp/mmmpy-147695ca-1fac-11ed-bb2f-0242ac110002/MergedRefl_20150217_235829_01.00.grib2'), PosixPath('/tmp/mmmpy-147695ca-1fac-11ed-bb2f-0242ac110002/MergedRefl_20150217_235829_06.50.grib2'), PosixPath('/tmp/mmmpy-147695ca-1fac-11ed-bb2f-0242ac110002/MergedRefl_20150217_235829_03.00.grib2'), PosixPath('/tmp/mmmpy-147695ca-1fac-11ed-bb2f-0242ac110002/MergedRefl_20150217_235829_08.00.grib2'), PosixPath('/tmp/mmmpy-147695ca-1fac-11ed-bb2f-0242ac110002/MergedRefl_20150217_235829_08.50.grib2'))\n"
     ]
    }
   ],
   "source": [
    "from contextlib import contextmanager\n",
    "import os\n",
    "from pathlib import Path\n",
    "from typing import Iterable\n",
    "import gzip\n",
    "import shutil\n",
    "import zipfile\n",
    "import warnings\n",
    "from pathlib import Path\n",
    "from typing import Callable,  TypeVar\n",
    "from typing import Iterable, overload\n",
    "\n",
    "import xarray as xr\n",
    "import uuid\n",
    "x = uuid.uuid1()\n",
    "import mmmpy\n",
    "StrPath =TypeVar(\"StrPath\",str, Path)\n",
    "\n",
    "ZIP= \".zip\"\n",
    "GZIP =\".gz\"\n",
    "GRIB = \"grib\"\n",
    "GRIB2 = \"grib2\"\n",
    "NETCDF = \"netcdf\"\n",
    "BINARY = \"binary\"\n",
    "\n",
    "root = Path(os.path.abspath(__name__)).parents[1]\n",
    "netcdf, binary, grib = sorted(root.glob(\"data/*.zip\"))\n",
    "def __as_path(*args:Path|str):\n",
    "    for arg in args:\n",
    "        if isinstance(arg, str):\n",
    "            yield Path(arg)\n",
    "        else:\n",
    "            yield arg\n",
    "\n",
    "def __iterfiles(tmpdir):\n",
    "    for file in tmpdir.glob(\"*\"):\n",
    "        # handle any gziped files\n",
    "        if GZIP in file.suffixes:\n",
    "            with gzip.open(file) as zref:\n",
    "                file = tmpdir / file.name.removesuffix(\".gz\")\n",
    "                with file.open(\"wb\") as fout:\n",
    "                    shutil.copyfileobj(zref, fout)\n",
    "        yield file\n",
    "TMPDIR=f\"/tmp/mmmpy-{uuid.uuid1()}/\"\n",
    "@contextmanager\n",
    "def unzip(file:str|Path,tmpdir:str|Path=Path(TMPDIR)) :\n",
    "    file, tmpdir = __as_path(file, tmpdir)    \n",
    "\n",
    "    if not tmpdir.exists():\n",
    "        tmpdir.mkdir()\n",
    "            \n",
    "    if ZIP in file.name:\n",
    "        with zipfile.ZipFile(file, \"r\") as ref:\n",
    "            # dumpy every thing into the tmpdir\n",
    "            ref.extractall(tmpdir)\n",
    "\n",
    "    try:\n",
    "        yield __iterfiles(tmpdir)\n",
    "\n",
    "    finally:\n",
    "        shutil.rmtree(tmpdir)\n",
    "\n",
    "with unzip(grib) as f:\n",
    "    print(tuple(f))"
   ]
  },
  {
   "cell_type": "code",
   "execution_count": null,
   "metadata": {},
   "outputs": [],
   "source": []
  },
  {
   "cell_type": "code",
   "execution_count": null,
   "metadata": {},
   "outputs": [],
   "source": []
  },
  {
   "cell_type": "code",
   "execution_count": 36,
   "metadata": {},
   "outputs": [
    {
     "data": {
      "text/plain": [
       "()"
      ]
     },
     "execution_count": 36,
     "metadata": {},
     "output_type": "execute_result"
    }
   ],
   "source": [
    "from pathlib import Path\n",
    "tuple(Path(\"/workspaces/MMM-Py/data/\").glob(\"[!mrms]\"))\n",
    "# Path(Path(\"/tmp/mmmpy/\"))"
   ]
  }
 ],
 "metadata": {
  "kernelspec": {
   "display_name": "Python 3.10.4 ('venv')",
   "language": "python",
   "name": "python3"
  },
  "language_info": {
   "codemirror_mode": {
    "name": "ipython",
    "version": 3
   },
   "file_extension": ".py",
   "mimetype": "text/x-python",
   "name": "python",
   "nbconvert_exporter": "python",
   "pygments_lexer": "ipython3",
   "version": "3.10.4"
  },
  "orig_nbformat": 4,
  "vscode": {
   "interpreter": {
    "hash": "b0717c53d6b06231a47d82f28bf5c85ba985f82808dfef8e7f3be1cf4215fce4"
   }
  }
 },
 "nbformat": 4,
 "nbformat_minor": 2
}
