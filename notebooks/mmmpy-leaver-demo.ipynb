{
 "cells": [
  {
   "cell_type": "markdown",
   "metadata": {},
   "source": [
    "# Direct Grib Read "
   ]
  },
  {
   "cell_type": "markdown",
   "metadata": {},
   "source": [
    "If you have installed more recent versions of pygrib, you can ingest grib mosaics directly without conversion to netCDF. This speeds up the ingest by ~15-20 seconds. This notebook will also demonstrate how to use MMM-Py with cartopy, and how to download near-realtime data from NCEP."
   ]
  },
  {
   "cell_type": "code",
   "execution_count": 32,
   "metadata": {},
   "outputs": [
    {
     "data": {
      "text/html": [
       "\n",
       "                <script type=\"application/javascript\" id=\"jupyter_black\">\n",
       "                (function() {\n",
       "                    if (window.IPython === undefined) {\n",
       "                        return\n",
       "                    }\n",
       "                    var msg = \"WARNING: it looks like you might have loaded \" +\n",
       "                        \"jupyter_black in a non-lab notebook with \" +\n",
       "                        \"`is_lab=True`. Please double check, and if \" +\n",
       "                        \"loading with `%load_ext` please review the README!\"\n",
       "                    console.log(msg)\n",
       "                    alert(msg)\n",
       "                })()\n",
       "                </script>\n",
       "                "
      ],
      "text/plain": [
       "<IPython.core.display.HTML object>"
      ]
     },
     "metadata": {},
     "output_type": "display_data"
    }
   ],
   "source": [
    "%load_ext jupyter_black"
   ]
  },
  {
   "cell_type": "code",
   "execution_count": 2,
   "metadata": {
    "collapsed": true
   },
   "outputs": [
    {
     "data": {
      "text/plain": [
       "PosixPath('/workspaces/MMM-Py')"
      ]
     },
     "execution_count": 2,
     "metadata": {},
     "output_type": "execute_result"
    }
   ],
   "source": [
    "import os\n",
    "import glob\n",
    "import shutil\n",
    "from pathlib import Path\n",
    "from typing import Iterator\n",
    "from datetime import datetime\n",
    "\n",
    "from urllib.error import HTTPError\n",
    "from requests import Session\n",
    "\n",
    "import numpy as np\n",
    "import pandas as pd\n",
    "import matplotlib.pyplot as plt\n",
    "import cartopy.crs as ccrs\n",
    "import cartopy.feature as cfeature\n",
    "from cartopy.io.img_tiles import StamenTerrain\n",
    "import pygrib\n",
    "\n",
    "import mmmpy\n",
    "\n",
    "%matplotlib inline\n",
    "ROOT_DIR = Path(os.path.abspath(__name__)).parents[1]\n",
    "ROOT_DIR"
   ]
  },
  {
   "cell_type": "code",
   "execution_count": 26,
   "metadata": {},
   "outputs": [],
   "source": [
    "def __iterurls(baseurl: str) -> Iterator[str]:\n",
    "    (page1,) = pd.read_html(baseurl)\n",
    "    nodes = page1[\"Name\"].dropna()\n",
    "    yield from baseurl + nodes[nodes.str.contains(\"MergedReflectivityQC\")]\n",
    "\n",
    "\n",
    "def __iterfiles(\n",
    "    files: pd.Series, input_dt: datetime, max_seconds: int\n",
    ") -> Iterator[str]:\n",
    "    di = pd.DatetimeIndex(files.str.extract(r\"(\\d{8}-\\d{6})\").astype(\"datetime64[s]\").squeeze())\n",
    "    x = abs(input_dt - di)\n",
    "    time_delta = abs(\n",
    "        input_dt - files.str.extract(r\"(\\d{8}-\\d{6})\").astype(\"datetime64[s]\").squeeze()\n",
    "    )\n",
    "    yield from files[time_delta.dt.total_seconds() <= max_seconds]\n",
    "\n",
    "\n",
    "def download_files(\n",
    "     save_to: Path, *, input_dt: datetime=datetime.utcnow(), max_seconds: int = 300,\n",
    ") -> None:\n",
    "    baseurl = \"http://mrms.ncep.noaa.gov/data/3DRefl/\"\n",
    "    if not save_to.exists():\n",
    "        save_to.mkdir()\n",
    "    with Session() as session:\n",
    "        for url in __iterurls(baseurl):\n",
    "            (page1,) = pd.read_html(url, skiprows=[1,2,3],parse_dates=True)\n",
    "\n",
    "            for file in __iterfiles(\n",
    "                page1[\"Name\"].dropna(), input_dt, max_seconds\n",
    "            ):\n",
    "                try:\n",
    "                    r = session.get(url + file, stream=True)\n",
    "                    r.raise_for_status()\n",
    "                    with (save_to / file).open(\"wb\") as fileout:\n",
    "                        shutil.copyfileobj(r.raw, fileout)\n",
    "                except HTTPError:\n",
    "                    continue\n",
    "\n",
    "if __name__ == \"__main__\":\n",
    "    download_files(Path(\"./data\"))\n"
   ]
  },
  {
   "cell_type": "code",
   "execution_count": 43,
   "metadata": {},
   "outputs": [
    {
     "name": "stdout",
     "output_type": "stream",
     "text": [
      "reading mosaic grib\n"
     ]
    },
    {
     "name": "stderr",
     "output_type": "stream",
     "text": [
      "ECCODES ERROR   :  Truncating time: non-zero seconds(38) ignored\n"
     ]
    },
    {
     "data": {
      "text/plain": [
       "<mmmpy.MosaicTile at 0x7fded20337c0>"
      ]
     },
     "execution_count": 43,
     "metadata": {},
     "output_type": "execute_result"
    }
   ],
   "source": [
    "import glob\n",
    "import mmmpy\n",
    "\n",
    "mosaic = mmmpy.MosaicTile(\n",
    "    glob.glob(\"./data/*\")[:2],\n",
    "    wgrib2_path=Path(\"/tmp/mmmpy\"),\n",
    "    nc_path=Path(\"/tmp/mmmpy\"),\n",
    ")\n",
    "mosaic"
   ]
  },
  {
   "cell_type": "markdown",
   "metadata": {},
   "source": [
    "### Direct ingest of grib into MMM-Py"
   ]
  },
  {
   "cell_type": "markdown",
   "metadata": {},
   "source": [
    "### Plot with cartopy"
   ]
  }
 ],
 "metadata": {
  "anaconda-cloud": {},
  "kernelspec": {
   "display_name": "Python 3.10.4 ('venv')",
   "language": "python",
   "name": "python3"
  },
  "language_info": {
   "codemirror_mode": {
    "name": "ipython",
    "version": 3
   },
   "file_extension": ".py",
   "mimetype": "text/x-python",
   "name": "python",
   "nbconvert_exporter": "python",
   "pygments_lexer": "ipython3",
   "version": "3.10.4"
  },
  "vscode": {
   "interpreter": {
    "hash": "23393d2575091a37cff0d0e9e7479591a295495b26c3b2ebf9b64da572e02d85"
   }
  }
 },
 "nbformat": 4,
 "nbformat_minor": 1
}
